{
  "nbformat": 4,
  "nbformat_minor": 0,
  "metadata": {
    "colab": {
      "provenance": []
    },
    "kernelspec": {
      "name": "python3",
      "display_name": "Python 3"
    },
    "language_info": {
      "name": "python"
    }
  },
  "cells": [
    {
      "cell_type": "code",
      "execution_count": null,
      "metadata": {
        "id": "-PjXI6z9fwSU"
      },
      "outputs": [],
      "source": [
        "import os\n",
        "import zipfile\n",
        "import random\n",
        "import shutil\n",
        "import tensorflow as tf\n",
        "from tensorflow.keras.preprocessing.image import ImageDataGenerator\n",
        "from shutil import copyfile\n",
        "import matplotlib.pyplot as plt"
      ]
    },
    {
      "cell_type": "code",
      "source": [
        "!wget --no-check-certificate \\\n",
        "    \"https://github.com/naufalsahli/capstone/blob/a34cbb19a586146a9fd226a94f27a4cf0de4e15d/1.zip?raw=true\" \\\n",
        "    -O \"/tmp/Data1.zip\""
      ],
      "metadata": {
        "id": "NiU3Oo8wf4k8"
      },
      "execution_count": null,
      "outputs": []
    },
    {
      "cell_type": "code",
      "source": [
        "!wget --no-check-certificate \\\n",
        "    \"https://github.com/naufalsahli/capstone/blob/74ad4fb298f794857adba9f05c7c5b5851294ce5/2.zip?raw=true\" \\\n",
        "    -O \"/tmp/Data2.zip\""
      ],
      "metadata": {
        "id": "1_oaU7AAf58y"
      },
      "execution_count": null,
      "outputs": []
    },
    {
      "cell_type": "code",
      "source": [
        "!wget --no-check-certificate \\\n",
        "    \"https://github.com/naufalsahli/capstone/blob/a34cbb19a586146a9fd226a94f27a4cf0de4e15d/3.zip?raw=true\" \\\n",
        "    -O \"/tmp/Data3.zip\""
      ],
      "metadata": {
        "id": "H0zV3MXmf_89"
      },
      "execution_count": null,
      "outputs": []
    },
    {
      "cell_type": "code",
      "source": [
        "!wget --no-check-certificate \\\n",
        "    \"https://github.com/naufalsahli/capstone/blob/a34cbb19a586146a9fd226a94f27a4cf0de4e15d/4.zip?raw=true\" \\\n",
        "    -O \"/tmp/Data4.zip\""
      ],
      "metadata": {
        "id": "SsbMYjHFgBSc"
      },
      "execution_count": null,
      "outputs": []
    },
    {
      "cell_type": "code",
      "source": [
        "!wget --no-check-certificate \\\n",
        "    \"https://github.com/naufalsahli/capstone/blob/a34cbb19a586146a9fd226a94f27a4cf0de4e15d/5.zip?raw=true\" \\\n",
        "    -O \"/tmp/Data5.zip\""
      ],
      "metadata": {
        "id": "6TGEjBRqgC0T"
      },
      "execution_count": null,
      "outputs": []
    },
    {
      "cell_type": "code",
      "source": [
        "#Extract Zip\n",
        "local_zip1 = '/tmp/Data1.zip'\n",
        "local_zip2 = '/tmp/Data2.zip'\n",
        "local_zip3 = '/tmp/Data3.zip'\n",
        "local_zip4 = '/tmp/Data4.zip'\n",
        "local_zip5 = '/tmp/Data5.zip'\n",
        "zip_ref1   = zipfile.ZipFile(local_zip1, 'r')\n",
        "zip_ref2  = zipfile.ZipFile(local_zip2, 'r')\n",
        "zip_ref3  = zipfile.ZipFile(local_zip3, 'r')\n",
        "zip_ref4  = zipfile.ZipFile(local_zip4, 'r')\n",
        "zip_ref5  = zipfile.ZipFile(local_zip5, 'r')\n",
        "zip_ref1.extractall('/tmp')\n",
        "zip_ref2.extractall('/tmp')\n",
        "zip_ref3.extractall('/tmp')\n",
        "zip_ref4.extractall('/tmp')\n",
        "zip_ref5.extractall('/tmp')\n",
        "zip_ref1.close()\n",
        "zip_ref2.close()\n",
        "zip_ref3.close()\n",
        "zip_ref4.close()\n",
        "zip_ref5.close()"
      ],
      "metadata": {
        "id": "MUllJ2GIgMKN"
      },
      "execution_count": null,
      "outputs": []
    },
    {
      "cell_type": "code",
      "source": [
        "source_path1 = '/tmp/Data1.zip'\n",
        "source_path2 = '/tmp/Data2.zip'\n",
        "source_path3 = '/tmp/Data3.zip'\n",
        "source_path4 = '/tmp/Data4.zip'\n",
        "source_path5 = '/tmp/Data5.zip'\n",
        "extract_path = '/tmp/Data'\n",
        "\n",
        "# Step 1: Extract the contents of the ZIP file\n",
        "with zipfile.ZipFile(source_path1, 'r') as zip_ref1:\n",
        "    zip_ref1.extractall(extract_path)\n",
        "with zipfile.ZipFile(source_path2, 'r') as zip_ref2:\n",
        "    zip_ref2.extractall(extract_path)\n",
        "with zipfile.ZipFile(source_path3, 'r') as zip_ref3:\n",
        "    zip_ref3.extractall(extract_path)\n",
        "with zipfile.ZipFile(source_path4, 'r') as zip_ref4:\n",
        "    zip_ref4.extractall(extract_path)\n",
        "with zipfile.ZipFile(source_path5, 'r') as zip_ref5:\n",
        "    zip_ref5.extractall(extract_path)\n",
        "\n",
        "\n",
        "# Step 2: Construct the paths to each category\n",
        "source_path_Atopic_Dermatitis_Photos = os.path.join(extract_path, 'Atopic_Dermatitis_Photos')\n",
        "source_path_Acne_and_Rosacea_Photos = os.path.join(extract_path, 'Acne_and_Rosacea_Photos')\n",
        "source_path_Actinic_Keratosis_Basal_Cell_Carcinoma_and_other_Malignant_Lesions = os.path.join(extract_path, 'Actinic_Keratosis_Basal_Cell_Carcinoma_and_other_Malignant_Lesions')\n",
        "source_path_Bullous_Disease_Photos = os.path.join(extract_path, 'Bullous_Disease_Photos')\n",
        "source_path_Cellulitis_Impetigo_and_other_Bacterial_Infections = os.path.join(extract_path, 'Cellulitis_Impetigo_and_other_Bacterial_Infections')\n",
        "\n",
        "# Step 3: List the files in each directory and print the counts\n",
        "print(f\"There are {len(os.listdir(source_path_Atopic_Dermatitis_Photos))} images of Atopic_Dermatitis_Photos.\")\n",
        "print(f\"There are {len(os.listdir(source_path_Acne_and_Rosacea_Photos))} images of Acne_and_Rosacea_Photos.\")\n",
        "print(f\"There are {len(os.listdir(source_path_Actinic_Keratosis_Basal_Cell_Carcinoma_and_other_Malignant_Lesions))} images of Actinic_Keratosis_Basal_Cell_Carcinoma_and_other_Malignant_Lesions.\")\n",
        "print(f\"There are {len(os.listdir(source_path_Bullous_Disease_Photos))} images of Bullous_Disease_Photos.\")\n",
        "print(f\"There are {len(os.listdir(source_path_Cellulitis_Impetigo_and_other_Bacterial_Infections))} images of Cellulitis_Impetigo_and_other_Bacterial_Infections.\")\n"
      ],
      "metadata": {
        "id": "wEVaRre_gNWC"
      },
      "execution_count": null,
      "outputs": []
    },
    {
      "cell_type": "code",
      "source": [
        "# Define root directory\n",
        "root_dir = '/tmp/Data-train-test'\n",
        "\n",
        "# Empty directory to prevent FileExistsError is the function is run several times\n",
        "if os.path.exists(root_dir):\n",
        "  shutil.rmtree(root_dir)\n",
        "\n",
        "# GRADED FUNCTION: create_train_test_dirs\n",
        "def create_train_test_dirs(root_path):\n",
        "  ### START CODE HERE\n",
        "  training_path = 'training'\n",
        "  testing_path = 'testing'\n",
        "  Atopic_Dermatitis_Photos_path = 'Atopic_Dermatitis_Photos'\n",
        "  Acne_and_Rosacea_Photos_path = 'Acne_and_Rosacea_Photos'\n",
        "  Actinic_Keratosis_Basal_Cell_Carcinoma_and_other_Malignant_Lesions_path = 'Actinic_Keratosis_Basal_Cell_Carcinoma_and_other_Malignant_Lesions'\n",
        "  Bullous_Disease_Photos_path = 'Bullous_Disease_Photos'\n",
        "  Cellulitis_Impetigo_and_other_Bacterial_Infections_path = 'Cellulitis_Impetigo_and_other_Bacterial_Infections'\n",
        "  path_arr = [testing_path, training_path]\n",
        "  path_arr2 = [Atopic_Dermatitis_Photos_path, Acne_and_Rosacea_Photos_path, Actinic_Keratosis_Basal_Cell_Carcinoma_and_other_Malignant_Lesions_path,Bullous_Disease_Photos_path,Cellulitis_Impetigo_and_other_Bacterial_Infections_path]\n",
        "\n",
        "  try:\n",
        "    for path1 in path_arr:\n",
        "      path_first = os.path.join(root_path, path1)\n",
        "      if os.path.isdir(path_first):\n",
        "        break\n",
        "      os.makedirs(path_first)\n",
        "      for path2 in path_arr2:\n",
        "        path_second = os.path.join(path_first, path2)\n",
        "        if os.path.isdir(path_second):\n",
        "          break\n",
        "        os.makedirs(path_second)\n",
        "  except OSError:\n",
        "    pass\n",
        "\n",
        "  # HINT:\n",
        "  # Use os.makedirs to create your directories with intermediate subdirectories\n",
        "  # Don't hardcode the paths. Use os.path.join to append the new directories to the root_path parameter\n",
        "\n",
        "\n",
        "  ### END CODE HERE\n",
        "\n",
        "\n",
        "try:\n",
        "  create_train_test_dirs(root_path=root_dir)\n",
        "except FileExistsError:\n",
        "  print(\"You should not be seeing this since the upper directory is removed beforehand\")"
      ],
      "metadata": {
        "id": "S4F9C_cQgOca"
      },
      "execution_count": null,
      "outputs": []
    },
    {
      "cell_type": "code",
      "source": [
        "# GRADED FUNCTION: split_data\n",
        "def split_data(SOURCE, TRAINING, TESTING, SPLIT_SIZE):\n",
        "\n",
        "  ### START CODE HERE\n",
        "  list_file = []\n",
        "  for filename in os.listdir(SOURCE):\n",
        "    path = SOURCE + filename\n",
        "    if os.path.getsize(path) > 0:\n",
        "      list_file.append(filename)\n",
        "    else:\n",
        "      print(\"{} is zero length, so ignoring.\".format(filename))\n",
        "\n",
        "  number_of_files = len(list_file)\n",
        "  split = int(number_of_files * SPLIT_SIZE)\n",
        "\n",
        "  shuffle = random.sample(list_file, number_of_files)\n",
        "  train_file = shuffle[:split]\n",
        "  test_file = shuffle[split:]\n",
        "\n",
        "  for filename in train_file:\n",
        "    copyfile(SOURCE + filename, TRAINING + filename)\n",
        "  for filename in test_file:\n",
        "    copyfile(SOURCE + filename, TESTING + filename)\n",
        "\n",
        "\n",
        "\n",
        "  ### END CODE HERE"
      ],
      "metadata": {
        "id": "QL1hrt1JgQou"
      },
      "execution_count": null,
      "outputs": []
    },
    {
      "cell_type": "code",
      "source": [
        "# Test your split_data function\n",
        "\n",
        "# Define paths\n",
        "\n",
        "Atopic_Dermatitis_Photos_SOURCE_DIR = \"/tmp/Data/Atopic_Dermatitis_Photos/\"\n",
        "Acne_and_Rosacea_Photos_SOURCE_DIR = \"/tmp/Data/Acne_and_Rosacea_Photos/\"\n",
        "Actinic_Keratosis_Basal_Cell_Carcinoma_and_other_Malignant_Lesions_SOURCE_DIR = \"/tmp/Data/Actinic_Keratosis_Basal_Cell_Carcinoma_and_other_Malignant_Lesions/\"\n",
        "Bullous_Disease_Photos_SOURCE_DIR = \"/tmp/Data/Bullous_Disease_Photos/\"\n",
        "Cellulitis_Impetigo_and_other_Bacterial_Infections_SOURCE_DIR = \"/tmp/Data/Cellulitis_Impetigo_and_other_Bacterial_Infections/\"\n",
        "\n",
        "\n",
        "TRAINING_DIR = \"/tmp/Data-train-test/training/\"\n",
        "TESTING_DIR = \"/tmp/Data-train-test/testing/\"\n",
        "\n",
        "TRAINING_Atopic_Dermatitis_Photos_DIR = os.path.join(TRAINING_DIR, \"Atopic_Dermatitis_Photos/\")\n",
        "TESTING_Atopic_Dermatitis_Photos_DIR = os.path.join(TESTING_DIR, \"Atopic_Dermatitis_Photos/\")\n",
        "\n",
        "TRAINING_Acne_and_Rosacea_Photos_DIR = os.path.join(TRAINING_DIR, \"Acne_and_Rosacea_Photos/\")\n",
        "TESTING_Acne_and_Rosacea_Photos_DIR = os.path.join(TESTING_DIR, \"Acne_and_Rosacea_Photos/\")\n",
        "\n",
        "TRAINING_Actinic_Keratosis_Basal_Cell_Carcinoma_and_other_Malignant_Lesions_DIR = os.path.join(TRAINING_DIR, \"Actinic_Keratosis_Basal_Cell_Carcinoma_and_other_Malignant_Lesions/\")\n",
        "TESTING_Actinic_Keratosis_Basal_Cell_Carcinoma_and_other_Malignant_Lesions_DIR = os.path.join(TESTING_DIR, \"Actinic_Keratosis_Basal_Cell_Carcinoma_and_other_Malignant_Lesions/\")\n",
        "\n",
        "TRAINING_Bullous_Disease_Photos_DIR = os.path.join(TRAINING_DIR, \"Bullous_Disease_Photos/\")\n",
        "TESTING_Bullous_Disease_Photos_DIR = os.path.join(TESTING_DIR, \"Bullous_Disease_Photos/\")\n",
        "\n",
        "TRAINING_Cellulitis_Impetigo_and_other_Bacterial_Infections_DIR = os.path.join(TRAINING_DIR, \"Cellulitis_Impetigo_and_other_Bacterial_Infections/\")\n",
        "TESTING_Cellulitis_Impetigo_and_other_Bacterial_Infections_DIR = os.path.join(TESTING_DIR, \"Cellulitis_Impetigo_and_other_Bacterial_Infections/\")\n",
        "\n"
      ],
      "metadata": {
        "id": "TeRp-tYmgR38"
      },
      "execution_count": null,
      "outputs": []
    },
    {
      "cell_type": "code",
      "source": [
        "# Empty directories in case you run this cell multiple times\n",
        "if len(os.listdir(TRAINING_Atopic_Dermatitis_Photos_DIR)) > 0:\n",
        "  for file in os.scandir(TRAINING_Atopic_Dermatitis_Photos_DIR):\n",
        "    os.remove(file.path)\n",
        "if len(os.listdir(TRAINING_Acne_and_Rosacea_Photos_DIR)) > 0:\n",
        "  for file in os.scandir(TRAINING_Acne_and_Rosacea_Photos_DIR):\n",
        "    os.remove(file.path)\n",
        "if len(os.listdir(TRAINING_Actinic_Keratosis_Basal_Cell_Carcinoma_and_other_Malignant_Lesions_DIR)) > 0:\n",
        "  for file in os.scandir(TRAINING_Actinic_Keratosis_Basal_Cell_Carcinoma_and_other_Malignant_Lesions_DIR):\n",
        "    os.remove(file.path)\n",
        "if len(os.listdir(TRAINING_Bullous_Disease_Photos_DIR)) > 0:\n",
        "  for file in os.scandir(TRAINING_Bullous_Disease_Photos_DIR):\n",
        "    os.remove(file.path)\n",
        "if len(os.listdir(TRAINING_Cellulitis_Impetigo_and_other_Bacterial_Infections_DIR)) > 0:\n",
        "  for file in os.scandir(TRAINING_Cellulitis_Impetigo_and_other_Bacterial_Infections_DIR):\n",
        "    os.remove(file.path)\n",
        "if len(os.listdir(TESTING_Atopic_Dermatitis_Photos_DIR)) > 0:\n",
        "  for file in os.scandir(TESTING_Atopic_Dermatitis_Photos_DIR):\n",
        "    os.remove(file.path)\n",
        "if len(os.listdir(TESTING_Acne_and_Rosacea_Photos_DIR)) > 0:\n",
        "  for file in os.scandir(TESTING_Acne_and_Rosacea_Photos_DIR):\n",
        "    os.remove(file.path)\n",
        "if len(os.listdir(TESTING_Actinic_Keratosis_Basal_Cell_Carcinoma_and_other_Malignant_Lesions_DIR)) > 0:\n",
        "  for file in os.scandir(TESTING_Actinic_Keratosis_Basal_Cell_Carcinoma_and_other_Malignant_Lesions_DIR):\n",
        "    os.remove(file.path)\n",
        "if len(os.listdir(TESTING_Bullous_Disease_Photos_DIR)) > 0:\n",
        "  for file in os.scandir(TESTING_Bullous_Disease_Photos_DIR):\n",
        "    os.remove(file.path)\n",
        "if len(os.listdir(TESTING_Cellulitis_Impetigo_and_other_Bacterial_Infections_DIR)) > 0:\n",
        "  for file in os.scandir(TESTING_Cellulitis_Impetigo_and_other_Bacterial_Infections_DIR):\n",
        "    os.remove(file.path)\n",
        "\n",
        "# Define proportion of images used for training\n",
        "split_size = .8\n",
        "\n",
        "# Run the function\n",
        "# NOTE: Messages about zero length images should be printed out\n",
        "split_data(Atopic_Dermatitis_Photos_SOURCE_DIR, TRAINING_Atopic_Dermatitis_Photos_DIR, TESTING_Atopic_Dermatitis_Photos_DIR, split_size)\n",
        "split_data(Acne_and_Rosacea_Photos_SOURCE_DIR, TRAINING_Acne_and_Rosacea_Photos_DIR, TESTING_Acne_and_Rosacea_Photos_DIR, split_size)\n",
        "split_data(Actinic_Keratosis_Basal_Cell_Carcinoma_and_other_Malignant_Lesions_SOURCE_DIR, TRAINING_Actinic_Keratosis_Basal_Cell_Carcinoma_and_other_Malignant_Lesions_DIR, TESTING_Actinic_Keratosis_Basal_Cell_Carcinoma_and_other_Malignant_Lesions_DIR, split_size)\n",
        "split_data(Bullous_Disease_Photos_SOURCE_DIR, TRAINING_Bullous_Disease_Photos_DIR, TESTING_Bullous_Disease_Photos_DIR, split_size)\n",
        "split_data(Cellulitis_Impetigo_and_other_Bacterial_Infections_SOURCE_DIR, TRAINING_Cellulitis_Impetigo_and_other_Bacterial_Infections_DIR, TESTING_Cellulitis_Impetigo_and_other_Bacterial_Infections_DIR, split_size)\n",
        "\n",
        "print(f\"There are {len(os.listdir(TRAINING_Atopic_Dermatitis_Photos_DIR))} images of Atopic_Dermatitis_Photos for training\")\n",
        "print(f\"There are {len(os.listdir(TRAINING_Acne_and_Rosacea_Photos_DIR))} images of Acne_and_Rosacea_Photos for training\")\n",
        "print(f\"There are {len(os.listdir(TRAINING_Actinic_Keratosis_Basal_Cell_Carcinoma_and_other_Malignant_Lesions_DIR))} images of Actinic_Keratosis_Basal_Cell_Carcinoma_and_other_Malignant_Lesions for training\")\n",
        "print(f\"There are {len(os.listdir(TRAINING_Bullous_Disease_Photos_DIR))} images of Bullous_Disease_Photos for training\")\n",
        "print(f\"There are {len(os.listdir(TRAINING_Cellulitis_Impetigo_and_other_Bacterial_Infections_DIR))} images of Cellulitis_Impetigo_and_other_Bacterial_Infections for training\")\n",
        "\n",
        "print(f\"There are {len(os.listdir(TESTING_Atopic_Dermatitis_Photos_DIR))} images of Atopic_Dermatitis_Photos for testing\")\n",
        "print(f\"There are {len(os.listdir(TESTING_Acne_and_Rosacea_Photos_DIR))} images of Acne_and_Rosacea_Photos for testing\")\n",
        "print(f\"There are {len(os.listdir(TESTING_Actinic_Keratosis_Basal_Cell_Carcinoma_and_other_Malignant_Lesions_DIR))} images of Actinic_Keratosis_Basal_Cell_Carcinoma_and_other_Malignant_Lesions for testing\")\n",
        "print(f\"There are {len(os.listdir(TESTING_Bullous_Disease_Photos_DIR))} images of Bullous_Disease_Photos for testing\")\n",
        "print(f\"There are {len(os.listdir(TESTING_Cellulitis_Impetigo_and_other_Bacterial_Infections_DIR))} images of Cellulitis_Impetigo_and_other_Bacterial_Infections for testing\")"
      ],
      "metadata": {
        "id": "LI-kMB6TgSrI"
      },
      "execution_count": null,
      "outputs": []
    },
    {
      "cell_type": "code",
      "source": [
        "# Download the inception v3 weights\n",
        "!wget --no-check-certificate \\\n",
        "    https://storage.googleapis.com/mledu-datasets/inception_v3_weights_tf_dim_ordering_tf_kernels_notop.h5 \\\n",
        "    -O /tmp/inception_v3_weights_tf_dim_ordering_tf_kernels_notop.h5"
      ],
      "metadata": {
        "id": "nnTCoNRGoUeE"
      },
      "execution_count": null,
      "outputs": []
    },
    {
      "cell_type": "code",
      "source": [
        "from tensorflow.keras.applications.inception_v3 import InceptionV3\n",
        "\n",
        "# Create an instance of the inception model from the local pre-trained weights\n",
        "local_weights_file = '/tmp/inception_v3_weights_tf_dim_ordering_tf_kernels_notop.h5'"
      ],
      "metadata": {
        "id": "HDwSz3E8oYmc"
      },
      "execution_count": null,
      "outputs": []
    },
    {
      "cell_type": "code",
      "source": [
        "def create_pre_trained_model(local_weights_file):\n",
        "  ### START CODE HERE\n",
        "  pre_trained_model = InceptionV3(input_shape = (150, 150, 3),\n",
        "                                  include_top = False,\n",
        "                                  weights = None)\n",
        "\n",
        "  pre_trained_model.load_weights(local_weights_file)\n",
        "\n",
        "  # Make all the layers in the pre-trained model non-trainable\n",
        "  from tensorflow.keras import layers\n",
        "  for layer in pre_trained_model.layers:\n",
        "    layer.trainable = False\n",
        "\n",
        "  ### END CODE HERE\n",
        "\n",
        "  return pre_trained_model"
      ],
      "metadata": {
        "id": "51cGPUbwoa_E"
      },
      "execution_count": null,
      "outputs": []
    },
    {
      "cell_type": "code",
      "source": [
        "pre_trained_model = create_pre_trained_model(local_weights_file)\n",
        "\n",
        "# Print the model summary\n",
        "pre_trained_model.summary()"
      ],
      "metadata": {
        "id": "FAfG4CwJochS"
      },
      "execution_count": null,
      "outputs": []
    },
    {
      "cell_type": "code",
      "source": [
        "total_params = pre_trained_model.count_params()\n",
        "num_trainable_params = sum([w.shape.num_elements() for w in pre_trained_model.trainable_weights])\n",
        "\n",
        "print(f\"There are {total_params:,} total parameters in this model.\")\n",
        "print(f\"There are {num_trainable_params:,} trainable parameters in this model.\")"
      ],
      "metadata": {
        "id": "fFasXWJwojxh"
      },
      "execution_count": null,
      "outputs": []
    },
    {
      "cell_type": "code",
      "source": [
        "# GRADED FUNCTION: output_of_last_layer\n",
        "def output_of_last_layer(pre_trained_model):\n",
        "  ### START CODE HERE\n",
        "  last_desired_layer = pre_trained_model.get_layer('mixed7')\n",
        "  print('last layer output shape: ', last_desired_layer.output_shape)\n",
        "  last_output = last_desired_layer.output\n",
        "  print('last layer output: ', last_output)\n",
        "  ### END CODE HERE\n",
        "\n",
        "  return last_output"
      ],
      "metadata": {
        "id": "wBj7eFtPosY6"
      },
      "execution_count": null,
      "outputs": []
    },
    {
      "cell_type": "code",
      "source": [
        "last_output = output_of_last_layer(pre_trained_model)"
      ],
      "metadata": {
        "id": "QD86jAZzo8c_"
      },
      "execution_count": null,
      "outputs": []
    },
    {
      "cell_type": "code",
      "source": [
        "# Print the type of the pre-trained model\n",
        "print(f\"The pretrained model has type: {type(pre_trained_model)}\")"
      ],
      "metadata": {
        "id": "p_aWYaIHo8tN"
      },
      "execution_count": null,
      "outputs": []
    },
    {
      "cell_type": "code",
      "source": [
        "# GRADED FUNCTION: train_val_generators\n",
        "def train_val_generators(TRAINING_DIR, VALIDATION_DIR):\n",
        "  ### START CODE HERE\n",
        "\n",
        "  # Instantiate the ImageDataGenerator class (don't forget to set the rescale argument)\n",
        "  train_datagen = ImageDataGenerator(rescale = 1.0/255,\n",
        "                                     rotation_range=40,\n",
        "                                     width_shift_range=0.2,\n",
        "                                     height_shift_range=0.2,\n",
        "                                     shear_range=0.2,\n",
        "                                     zoom_range=0.2,\n",
        "                                     horizontal_flip=True,\n",
        "                                     vertical_flip=True)\n",
        "\n",
        "  # Pass in the appropiate arguments to the flow_from_directory method\n",
        "  train_generator = train_datagen.flow_from_directory(directory=TRAINING_DIR,\n",
        "                                                      batch_size=20,\n",
        "                                                      class_mode='categorical',\n",
        "                                                      target_size=(150, 150))\n",
        "\n",
        "  # Instantiate the ImageDataGenerator class (don't forget to set the rescale argument)\n",
        "  validation_datagen = ImageDataGenerator(rescale = 1.0/255.)\n",
        "\n",
        "  # Pass in the appropiate arguments to the flow_from_directory method\n",
        "  validation_generator = validation_datagen.flow_from_directory(directory=VALIDATION_DIR,\n",
        "                                                                batch_size=11,\n",
        "                                                                class_mode='categorical',\n",
        "                                                                target_size=(150, 150))\n",
        "  ### END CODE HERE\n",
        "  return train_generator, validation_generator\n"
      ],
      "metadata": {
        "id": "sZyzksGso93q"
      },
      "execution_count": null,
      "outputs": []
    },
    {
      "cell_type": "code",
      "source": [
        "# Test your generators\n",
        "train_generator, validation_generator = train_val_generators(TRAINING_DIR, TESTING_DIR)"
      ],
      "metadata": {
        "id": "cmYT18o5o_VD"
      },
      "execution_count": null,
      "outputs": []
    },
    {
      "cell_type": "code",
      "source": [
        "from tensorflow.keras import layers\n",
        "from tensorflow.keras import Model\n",
        "from tensorflow.keras.optimizers import RMSprop\n",
        "def create_final_model(pre_trained_model, last_output):\n",
        "  # Flatten the output layer to 1 dimension\n",
        "  x = layers.Flatten()(last_output)\n",
        "\n",
        "  ### START CODE HERE\n",
        "\n",
        "  # Add a fully connected layer with 1024 hidden units and ReLU activation\n",
        "  x = layers.Dense(1024, activation='relu')(x)\n",
        "  # Add a dropout rate of 0.5\n",
        "  x = layers.Dropout(0.5)(x)\n",
        "  # Add a final sigmoid layer for classification\n",
        "  x = layers.Dense(5, activation='softmax')(x)\n",
        "\n",
        "  from tensorflow.keras.optimizers import RMSprop\n",
        "  from tensorflow.keras import Model\n",
        "  # Create the complete model by using the Model class\n",
        "  model = Model(pre_trained_model.input, x)\n",
        "\n",
        "  # Compile the model\n",
        "  model.compile(optimizer = RMSprop(learning_rate=0.0001),\n",
        "                loss = 'categorical_crossentropy',\n",
        "                metrics = ['accuracy'])\n",
        "\n",
        "  ### END CODE HERE\n",
        "\n",
        "  return model"
      ],
      "metadata": {
        "id": "hI50ENIppAge"
      },
      "execution_count": null,
      "outputs": []
    },
    {
      "cell_type": "code",
      "source": [
        "# Define a Callback class that stops training once accuracy reaches 99.9%\n",
        "class myCallback(tf.keras.callbacks.Callback):\n",
        "  def on_epoch_end(self, epoch, logs={}):\n",
        "    if(logs.get('val_accuracy')>0.9 and logs.get('accuracy')>0.9):\n",
        "      print(\"\\nReached 90% accuracy so cancelling training!\")\n",
        "      self.model.stop_training = True"
      ],
      "metadata": {
        "id": "YkzcpM0WpE1Q"
      },
      "execution_count": null,
      "outputs": []
    },
    {
      "cell_type": "code",
      "source": [
        "# Save your model in a variable\n",
        "model = create_final_model(pre_trained_model, last_output)\n",
        "\n",
        "# Inspect parameters\n",
        "total_params = model.count_params()\n",
        "num_trainable_params = sum([w.shape.num_elements() for w in model.trainable_weights])\n",
        "\n",
        "print(f\"There are {total_params:,} total parameters in this model.\")\n",
        "print(f\"There are {num_trainable_params:,} trainable parameters in this model.\")"
      ],
      "metadata": {
        "id": "RooB_MyMpGB3"
      },
      "execution_count": null,
      "outputs": []
    },
    {
      "cell_type": "code",
      "source": [
        "model.summary()"
      ],
      "metadata": {
        "id": "y_r4Ig3opIyS"
      },
      "execution_count": null,
      "outputs": []
    },
    {
      "cell_type": "code",
      "source": [
        "# Run this and see how many epochs it should take before the callback\n",
        "# fires, and stops training at 99.9% accuracy\n",
        "# (It should take a few epochs)\n",
        "callbacks = myCallback()\n",
        "history = model.fit(train_generator,\n",
        "                    validation_data = validation_generator,\n",
        "                    epochs = 50,\n",
        "                    verbose = 1,\n",
        "                    callbacks=[callbacks])"
      ],
      "metadata": {
        "id": "Ludvkv2aprZV"
      },
      "execution_count": null,
      "outputs": []
    },
    {
      "cell_type": "code",
      "source": [
        "import matplotlib.pyplot as plt\n",
        "\n",
        "# Plot the results\n",
        "acc = history.history['accuracy']\n",
        "val_acc = history.history['val_accuracy']\n",
        "loss = history.history['loss']\n",
        "val_loss = history.history['val_loss']\n",
        "\n",
        "epochs = range(len(acc))\n",
        "\n",
        "plt.plot(epochs, acc, 'r', label='Training accuracy')\n",
        "plt.plot(epochs, val_acc, 'b', label='Validation accuracy')\n",
        "plt.title('Training and validation accuracy')\n",
        "plt.legend(loc=0)\n",
        "plt.figure()\n",
        "\n",
        "plt.show()"
      ],
      "metadata": {
        "id": "y7C4kjDTtt2h"
      },
      "execution_count": null,
      "outputs": []
    },
    {
      "cell_type": "code",
      "source": [
        "import numpy as np\n",
        "from google.colab import files\n",
        "from keras.preprocessing import image\n",
        "\n",
        "uploaded = files.upload()\n",
        "\n",
        "for fn in uploaded.keys():\n",
        "\n",
        "  # predicting images\n",
        "  path = '/content/' + fn\n",
        "  img = image.load_img(path, target_size=(150, 150))\n",
        "  x = image.img_to_array(img)\n",
        "  x /= 255\n",
        "  x = np.expand_dims(x, axis=0)\n",
        "\n",
        "  images = np.vstack([x])\n",
        "  classes = model.predict(images, batch_size=10)\n",
        "  print(classes[0])\n",
        "  print(\"Atopic_Dermatitis\")\n",
        "  print(classes[0][0])\n",
        "  print(\"Acne_and_Rosacea\")\n",
        "  print(classes[0][1])\n",
        "  print(\"Actinic_Keratosis_Basal_Cell_Carcinoma_and_other_Malignant_Lesions\")\n",
        "  print(classes[0][2])\n",
        "  print(\"Bullous_Disease\")\n",
        "  print(classes[0][3])\n",
        "  print(\"Cellulitis_Impetigo_and_other_Bacterial_Infections\")\n",
        "  print(classes[0][4])\n",
        "  # if classes[0]>0.5:\n",
        "  #   print(fn + \" is a human\")\n",
        "  # else:\n",
        "  #   print(fn + \" is a horse\")"
      ],
      "metadata": {
        "id": "UoI7qkfCtv-V"
      },
      "execution_count": null,
      "outputs": []
    },
    {
      "cell_type": "code",
      "source": [
        "import numpy as np\n",
        "from sklearn.metrics import f1_score\n",
        "\n",
        "# Membuat prediksi pada data validasi\n",
        "predictions = model.predict(validation_generator)\n",
        "predicted_labels = np.argmax(predictions, axis=1)\n",
        "\n",
        "true_labels = validation_generator.classes\n",
        "\n",
        "# Menghitung skor F1\n",
        "f1 = f1_score(true_labels, predicted_labels, average='weighted')\n",
        "\n",
        "print(f'F1 Score: {f1}')"
      ],
      "metadata": {
        "id": "u94Bx3tDtxi7"
      },
      "execution_count": null,
      "outputs": []
    },
    {
      "cell_type": "code",
      "source": [
        "if __name__ == '__main__':\n",
        "    model.save(\"model1.h5\")"
      ],
      "metadata": {
        "id": "kAI7YVXitzzo"
      },
      "execution_count": null,
      "outputs": []
    }
  ]
}