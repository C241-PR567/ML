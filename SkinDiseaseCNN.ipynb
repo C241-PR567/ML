{
 "cells": [
  {
   "cell_type": "markdown",
   "metadata": {},
   "source": [
    "# Creating Model for Skin Disease Classification using CNN"
   ]
  },
  {
   "cell_type": "markdown",
   "metadata": {},
   "source": [
    "## 1. Preparation"
   ]
  },
  {
   "cell_type": "markdown",
   "metadata": {},
   "source": [
    "Importing necessary library"
   ]
  },
  {
   "cell_type": "code",
   "execution_count": 1,
   "metadata": {},
   "outputs": [],
   "source": [
    "import os\n",
    "import numpy as np\n",
    "import tensorflow as tf\n",
    "from tensorflow.keras.applications import MobileNetV2\n",
    "from tensorflow.keras.models import Sequential\n",
    "from tensorflow.keras.layers import Conv2D, MaxPooling2D, Flatten, Dense, Dropout, GlobalAveragePooling2D\n",
    "from tensorflow.keras.optimizers import Adam\n",
    "from tensorflow.keras.preprocessing.image import ImageDataGenerator\n",
    "from tensorflow.keras.models import model_from_json\n",
    "import matplotlib.pyplot as plt"
   ]
  },
  {
   "cell_type": "markdown",
   "metadata": {},
   "source": [
    "Defining path"
   ]
  },
  {
   "cell_type": "code",
   "execution_count": 2,
   "metadata": {},
   "outputs": [],
   "source": [
    "train_dir = r'C:\\Users\\mgusn\\OneDrive\\Documents\\alay sat\\Bangkit\\ML\\dermnet_data\\train'\n",
    "test_dir = r'C:\\Users\\mgusn\\OneDrive\\Documents\\alay sat\\Bangkit\\ML\\dermnet_data\\test'"
   ]
  },
  {
   "cell_type": "markdown",
   "metadata": {},
   "source": [
    "Inspecting Directory Structure"
   ]
  },
  {
   "cell_type": "code",
   "execution_count": 3,
   "metadata": {},
   "outputs": [
    {
     "name": "stdout",
     "output_type": "stream",
     "text": [
      "Training Directory Structure:\n",
      "train/\n",
      "    Acne and Rosacea Photos/\n",
      "        0_1.jpg\n",
      "        0_13.jpg\n",
      "        0_14.jpg\n",
      "        0_2.jpg\n",
      "        0_31.jpg\n",
      "        ...\n",
      "    Actinic Keratosis Basal Cell Carcinoma and other Malignant Lesions/\n",
      "        0_12.jpg\n",
      "        0_15.jpg\n",
      "        0_16.jpg\n",
      "        0_17.jpg\n",
      "        0_18.jpg\n",
      "        ...\n",
      "    Atopic Dermatitis Photos/\n",
      "        0_1.jpg\n",
      "        0_10.jpg\n",
      "        0_11.jpg\n",
      "        0_12.jpg\n",
      "        0_14.jpg\n",
      "        ...\n",
      "    Bullous Disease Photos/\n",
      "        0_11.jpg\n",
      "        0_14.jpg\n",
      "        0_18.jpg\n",
      "        0_24.jpg\n",
      "        0_29.jpg\n",
      "        ...\n",
      "    Cellulitis Impetigo and other Bacterial Infections/\n",
      "        0_1.jpg\n",
      "        0_10.jpg\n",
      "        0_101.jpg\n",
      "        0_103.jpg\n",
      "        0_105.jpg\n",
      "        ...\n",
      "    Eczema Photos/\n",
      "        0_0.jpg\n",
      "        0_16.jpg\n",
      "        0_19.jpg\n",
      "        0_28.jpg\n",
      "        0_38.jpg\n",
      "        ...\n",
      "    Exanthems and Drug Eruptions/\n",
      "        0_0.jpg\n",
      "        0_10.jpg\n",
      "        0_101.jpg\n",
      "        0_102.jpg\n",
      "        0_103.jpg\n",
      "        ...\n",
      "    Hair Loss Photos Alopecia and other Hair Diseases/\n",
      "        0_0.jpg\n",
      "        0_1.jpg\n",
      "        0_10.jpg\n",
      "        0_11.jpg\n",
      "        0_12.jpg\n",
      "        ...\n",
      "    Herpes HPV and other STDs Photos/\n",
      "        0_1.jpg\n",
      "        0_10.jpg\n",
      "        0_11.jpg\n",
      "        0_14.jpg\n",
      "        0_15.jpg\n",
      "        ...\n",
      "    Light Diseases and Disorders of Pigmentation/\n",
      "        0_15.jpg\n",
      "        0_17.jpg\n",
      "        0_18.jpg\n",
      "        0_19.jpg\n",
      "        0_2.jpg\n",
      "        ...\n",
      "    Lupus and other Connective Tissue diseases/\n",
      "        0_0.jpg\n",
      "        0_1.jpg\n",
      "        0_10.jpg\n",
      "        0_101.jpg\n",
      "        0_103.jpg\n",
      "        ...\n",
      "    Melanoma Skin Cancer Nevi and Moles/\n",
      "        0_0.jpg\n",
      "        0_1.jpg\n",
      "        0_10.jpg\n",
      "        0_11.jpg\n",
      "        0_12.jpg\n",
      "        ...\n",
      "    Nail Fungus and other Nail Disease/\n",
      "        t-acute-paronychia-1.jpg\n",
      "        t-acute-paronychia-10.jpg\n",
      "        t-acute-paronychia-11.jpg\n",
      "        t-acute-paronychia-12.jpg\n",
      "        t-acute-paronychia-13.jpg\n",
      "        ...\n",
      "    Poison Ivy Photos and other Contact Dermatitis/\n",
      "        0_0.jpg\n",
      "        0_10.jpg\n",
      "        0_12.jpg\n",
      "        0_13.jpg\n",
      "        0_14.jpg\n",
      "        ...\n",
      "    Psoriasis pictures Lichen Planus and related diseases/\n",
      "        0_0.jpg\n",
      "        0_1.jpg\n",
      "        0_10.jpg\n",
      "        0_11.jpg\n",
      "        0_14.jpg\n",
      "        ...\n",
      "    Scabies Lyme Disease and other Infestations and Bites/\n",
      "        0_0.jpg\n",
      "        0_1.jpg\n",
      "        0_10.jpg\n",
      "        0_11.jpg\n",
      "        0_13.jpg\n",
      "        ...\n",
      "    Seborrheic Keratoses and other Benign Tumors/\n",
      "        0_1.jpg\n",
      "        0_11.jpg\n",
      "        0_12.jpg\n",
      "        0_16.jpg\n",
      "        0_17.jpg\n",
      "        ...\n",
      "    Systemic Disease/\n",
      "        0_0.jpg\n",
      "        0_1.jpg\n",
      "        0_10.jpg\n",
      "        0_101.jpg\n",
      "        0_103.jpg\n",
      "        ...\n",
      "    Tinea Ringworm Candidiasis and other Fungal Infections/\n",
      "        0_11.jpg\n",
      "        0_13.jpg\n",
      "        0_6.jpg\n",
      "        0_7.jpg\n",
      "        0_8.jpg\n",
      "        ...\n",
      "    Urticaria Hives/\n",
      "        0_5.jpg\n",
      "        1_1.jpg\n",
      "        1_28.jpg\n",
      "        1_30.jpg\n",
      "        1_31.jpg\n",
      "        ...\n",
      "    Vascular Tumors/\n",
      "        0_15.jpg\n",
      "        0_20.jpg\n",
      "        0_22.jpg\n",
      "        0_3.jpg\n",
      "        0_34.jpg\n",
      "        ...\n",
      "    Vasculitis Photos/\n",
      "        0_13.jpg\n",
      "        0_22.jpg\n",
      "        2_12.jpg\n",
      "        2_6.jpg\n",
      "        2_8.jpg\n",
      "        ...\n",
      "    Warts Molluscum and other Viral Infections/\n",
      "        0_1.jpg\n",
      "        0_16.jpg\n",
      "        0_19.jpg\n",
      "        0_21.jpg\n",
      "        0_22.jpg\n",
      "        ...\n",
      "\n",
      "Test Directory Structure:\n",
      "test/\n",
      "    Acne and Rosacea Photos/\n",
      "        0_0.jpg\n",
      "        0_10.jpg\n",
      "        0_11.jpg\n",
      "        0_12.jpg\n",
      "        0_15.jpg\n",
      "        ...\n",
      "    Actinic Keratosis Basal Cell Carcinoma and other Malignant Lesions/\n",
      "        0_0.jpg\n",
      "        0_1.jpg\n",
      "        0_10.jpg\n",
      "        0_11.jpg\n",
      "        0_13.jpg\n",
      "        ...\n",
      "    Atopic Dermatitis Photos/\n",
      "        0_0.jpg\n",
      "        0_13.jpg\n",
      "        0_15.jpg\n",
      "        0_17.jpg\n",
      "        0_2.jpg\n",
      "        ...\n",
      "    Bullous Disease Photos/\n",
      "        0_0.jpg\n",
      "        0_1.jpg\n",
      "        0_10.jpg\n",
      "        0_12.jpg\n",
      "        0_13.jpg\n",
      "        ...\n",
      "    Cellulitis Impetigo and other Bacterial Infections/\n",
      "        0_0.jpg\n",
      "        0_100.jpg\n",
      "        0_102.jpg\n",
      "        0_104.jpg\n",
      "        0_106.jpg\n",
      "        ...\n",
      "    Eczema Photos/\n",
      "        0_1.jpg\n",
      "        0_10.jpg\n",
      "        0_11.jpg\n",
      "        0_12.jpg\n",
      "        0_13.jpg\n",
      "        ...\n",
      "    Exanthems and Drug Eruptions/\n",
      "        0_1.jpg\n",
      "        0_100.jpg\n",
      "        0_104.jpg\n",
      "        0_112.jpg\n",
      "        0_115.jpg\n",
      "        ...\n",
      "    Hair Loss Photos Alopecia and other Hair Diseases/\n",
      "        0_15.jpg\n",
      "        0_17.jpg\n",
      "        0_19.jpg\n",
      "        0_21.jpg\n",
      "        0_23.jpg\n",
      "        ...\n",
      "    Herpes HPV and other STDs Photos/\n",
      "        0_0.jpg\n",
      "        0_12.jpg\n",
      "        0_13.jpg\n",
      "        0_17.jpg\n",
      "        0_2.jpg\n",
      "        ...\n",
      "    Light Diseases and Disorders of Pigmentation/\n",
      "        0_0.jpg\n",
      "        0_1.jpg\n",
      "        0_10.jpg\n",
      "        0_11.jpg\n",
      "        0_12.jpg\n",
      "        ...\n",
      "    Lupus and other Connective Tissue diseases/\n",
      "        0_100.jpg\n",
      "        0_102.jpg\n",
      "        0_105.jpg\n",
      "        0_106.jpg\n",
      "        0_107.jpg\n",
      "        ...\n",
      "    Melanoma Skin Cancer Nevi and Moles/\n",
      "        0_24.jpg\n",
      "        0_9.jpg\n",
      "        10_0.jpg\n",
      "        10_17.jpg\n",
      "        10_19.jpg\n",
      "        ...\n",
      "    Nail Fungus and other Nail Disease/\n",
      "        0_0.jpg\n",
      "        0_1.jpg\n",
      "        0_10.jpg\n",
      "        0_11.jpg\n",
      "        0_12.jpg\n",
      "        ...\n",
      "    Poison Ivy Photos and other Contact Dermatitis/\n",
      "        0_1.jpg\n",
      "        0_11.jpg\n",
      "        0_16.jpg\n",
      "        0_18.jpg\n",
      "        0_2.jpg\n",
      "        ...\n",
      "    Psoriasis pictures Lichen Planus and related diseases/\n",
      "        0_12.jpg\n",
      "        0_13.jpg\n",
      "        0_16.jpg\n",
      "        0_18.jpg\n",
      "        0_19.jpg\n",
      "        ...\n",
      "    Scabies Lyme Disease and other Infestations and Bites/\n",
      "        0_12.jpg\n",
      "        0_15.jpg\n",
      "        0_17.jpg\n",
      "        0_18.jpg\n",
      "        0_19.jpg\n",
      "        ...\n",
      "    Seborrheic Keratoses and other Benign Tumors/\n",
      "        0_0.jpg\n",
      "        0_10.jpg\n",
      "        0_13.jpg\n",
      "        0_14.jpg\n",
      "        0_15.jpg\n",
      "        ...\n",
      "    Systemic Disease/\n",
      "        0_100.jpg\n",
      "        0_102.jpg\n",
      "        0_106.jpg\n",
      "        0_109.jpg\n",
      "        0_112.jpg\n",
      "        ...\n",
      "    Tinea Ringworm Candidiasis and other Fungal Infections/\n",
      "        0_0.jpg\n",
      "        0_1.jpg\n",
      "        0_10.jpg\n",
      "        0_12.jpg\n",
      "        0_2.jpg\n",
      "        ...\n",
      "    Urticaria Hives/\n",
      "        0_0.jpg\n",
      "        0_1.jpg\n",
      "        0_10.jpg\n",
      "        0_11.jpg\n",
      "        0_12.jpg\n",
      "        ...\n",
      "    Vascular Tumors/\n",
      "        0_0.jpg\n",
      "        0_1.jpg\n",
      "        0_10.jpg\n",
      "        0_11.jpg\n",
      "        0_12.jpg\n",
      "        ...\n",
      "    Vasculitis Photos/\n",
      "        0_0.jpg\n",
      "        0_1.jpg\n",
      "        0_10.jpg\n",
      "        0_11.jpg\n",
      "        0_12.jpg\n",
      "        ...\n",
      "    Warts Molluscum and other Viral Infections/\n",
      "        0_0.jpg\n",
      "        0_10.jpg\n",
      "        0_11.jpg\n",
      "        0_12.jpg\n",
      "        0_13.jpg\n",
      "        ...\n"
     ]
    }
   ],
   "source": [
    "import os\n",
    "\n",
    "def list_directory_contents(directory, max_files_per_level=5):\n",
    "    for root, dirs, files in os.walk(directory):\n",
    "        level = root.replace(directory, '').count(os.sep)\n",
    "        indent = ' ' * 4 * (level)\n",
    "        print(f'{indent}{os.path.basename(root)}/')\n",
    "        subindent = ' ' * 4 * (level + 1)\n",
    "        file_count = 0\n",
    "        for f in files:\n",
    "            if file_count < max_files_per_level:\n",
    "                print(f'{subindent}{f}')\n",
    "                file_count += 1\n",
    "            else:\n",
    "                print(f'{subindent}...')\n",
    "                break\n",
    "\n",
    "# Example usage:\n",
    "print(\"Training Directory Structure:\")\n",
    "list_directory_contents(train_dir)\n",
    "\n",
    "print(\"\\nTest Directory Structure:\")\n",
    "list_directory_contents(test_dir)\n"
   ]
  },
  {
   "cell_type": "markdown",
   "metadata": {},
   "source": [
    "## 2. Augmenting Dataset"
   ]
  },
  {
   "cell_type": "code",
   "execution_count": 4,
   "metadata": {},
   "outputs": [
    {
     "name": "stdout",
     "output_type": "stream",
     "text": [
      "Found 24855 images belonging to 23 classes.\n",
      "Found 4317 images belonging to 23 classes.\n"
     ]
    }
   ],
   "source": [
    "train_datagen = ImageDataGenerator(\n",
    "    rescale=1./255,\n",
    "    rotation_range=20,\n",
    "    width_shift_range=0.2,\n",
    "    height_shift_range=0.2,\n",
    "    shear_range=0.2,\n",
    "    zoom_range=0.2,\n",
    "    horizontal_flip=True,\n",
    "    fill_mode='nearest'\n",
    ")\n",
    "\n",
    "test_datagen = ImageDataGenerator(rescale=1./255)\n",
    "\n",
    "train_generator = train_datagen.flow_from_directory(\n",
    "    train_dir,\n",
    "    target_size=(150, 150),\n",
    "    batch_size=64,\n",
    "    class_mode='categorical'\n",
    ")\n",
    "\n",
    "test_generator = test_datagen.flow_from_directory(\n",
    "    test_dir,\n",
    "    target_size=(150, 150),\n",
    "    batch_size=64,\n",
    "    class_mode='categorical'\n",
    ")"
   ]
  },
  {
   "cell_type": "markdown",
   "metadata": {},
   "source": [
    "## 3. Creating Model Architecture"
   ]
  },
  {
   "cell_type": "markdown",
   "metadata": {},
   "source": [
    "Load Pre-trained model"
   ]
  },
  {
   "cell_type": "code",
   "execution_count": 5,
   "metadata": {},
   "outputs": [
    {
     "name": "stderr",
     "output_type": "stream",
     "text": [
      "C:\\Users\\mgusn\\AppData\\Local\\Temp\\ipykernel_21388\\3880497335.py:2: UserWarning: `input_shape` is undefined or non-square, or `rows` is not in [96, 128, 160, 192, 224]. Weights for input shape (224, 224) will be loaded as the default.\n",
      "  base_model = MobileNetV2(weights='imagenet', include_top=False, input_shape=(150, 150, 3))\n"
     ]
    }
   ],
   "source": [
    "# Load pre-trained MobileNetV2 model\n",
    "base_model = MobileNetV2(weights='imagenet', include_top=False, input_shape=(150, 150, 3))\n",
    "\n",
    "# Freeze pre-trained layers\n",
    "for layer in base_model.layers:\n",
    "    layer.trainable = False"
   ]
  },
  {
   "cell_type": "markdown",
   "metadata": {},
   "source": [
    "Creating the Model"
   ]
  },
  {
   "cell_type": "code",
   "execution_count": 7,
   "metadata": {},
   "outputs": [],
   "source": [
    "# Create a new Sequential model\n",
    "model = Sequential()\n",
    "\n",
    "# Add MobileNetV2 base\n",
    "model.add(base_model)\n",
    "\n",
    "# Add GlobalAveragePooling2D layer\n",
    "model.add(GlobalAveragePooling2D())\n",
    "\n",
    "# Add custom layers\n",
    "model.add(Dense(1024, activation='relu'))\n",
    "model.add(Dropout(0.5))\n",
    "model.add(Dense(512, activation='relu'))\n",
    "model.add(Dropout(0.5))\n",
    "model.add(Dense(256, activation='relu'))\n",
    "model.add(Dropout(0.5))\n",
    "model.add(Dense(128, activation='relu'))\n",
    "model.add(Dropout(0.5))\n",
    "model.add(Dense(23, activation='softmax'))\n"
   ]
  },
  {
   "cell_type": "markdown",
   "metadata": {},
   "source": [
    "Compile the Model"
   ]
  },
  {
   "cell_type": "code",
   "execution_count": 8,
   "metadata": {},
   "outputs": [],
   "source": [
    "model.compile(optimizer=Adam(learning_rate=0.001), \n",
    "              loss='categorical_crossentropy', \n",
    "              metrics=['accuracy'])"
   ]
  },
  {
   "cell_type": "markdown",
   "metadata": {},
   "source": [
    "Training the Model"
   ]
  },
  {
   "cell_type": "code",
   "execution_count": 9,
   "metadata": {},
   "outputs": [
    {
     "name": "stdout",
     "output_type": "stream",
     "text": [
      "Epoch 1/100\n"
     ]
    },
    {
     "name": "stderr",
     "output_type": "stream",
     "text": [
      "c:\\Users\\mgusn\\AppData\\Local\\Programs\\Python\\Python311\\Lib\\site-packages\\keras\\src\\trainers\\data_adapters\\py_dataset_adapter.py:121: UserWarning: Your `PyDataset` class should call `super().__init__(**kwargs)` in its constructor. `**kwargs` can include `workers`, `use_multiprocessing`, `max_queue_size`. Do not pass these arguments to `fit()`, as they will be ignored.\n",
      "  self._warn_if_super_not_called()\n"
     ]
    },
    {
     "name": "stdout",
     "output_type": "stream",
     "text": [
      "\u001b[1m 11/389\u001b[0m \u001b[37m━━━━━━━━━━━━━━━━━━━━\u001b[0m \u001b[1m7:02\u001b[0m 1s/step - accuracy: 0.0580 - loss: 4.1757"
     ]
    }
   ],
   "source": [
    "history = model.fit(\n",
    "    train_generator,\n",
    "    validation_data=test_generator,\n",
    "    epochs=100  \n",
    ")"
   ]
  },
  {
   "cell_type": "markdown",
   "metadata": {},
   "source": [
    "## 4. Evaluating Model"
   ]
  },
  {
   "cell_type": "markdown",
   "metadata": {},
   "source": [
    "Validation and Training Comparison"
   ]
  },
  {
   "cell_type": "code",
   "execution_count": null,
   "metadata": {},
   "outputs": [],
   "source": [
    "# Plot training and validation accuracy\n",
    "plt.plot(history.history['accuracy'], label='Training Accuracy')\n",
    "plt.plot(history.history['val_accuracy'], label='Validation Accuracy')\n",
    "plt.xlabel('Epoch')\n",
    "plt.ylabel('Accuracy')\n",
    "plt.title('Training and Validation Accuracy')\n",
    "plt.legend()\n",
    "plt.show()\n",
    "\n",
    "# Plot training and validation loss\n",
    "plt.plot(history.history['loss'], label='Training Loss')\n",
    "plt.plot(history.history['val_loss'], label='Validation Loss')\n",
    "plt.xlabel('Epoch')\n",
    "plt.ylabel('Loss')\n",
    "plt.title('Training and Validation Loss')\n",
    "plt.legend()\n",
    "plt.show()"
   ]
  },
  {
   "cell_type": "markdown",
   "metadata": {},
   "source": [
    "Try to predict with the model"
   ]
  },
  {
   "cell_type": "code",
   "execution_count": null,
   "metadata": {},
   "outputs": [],
   "source": [
    "# Get an image from the validation dataset\n",
    "img_batch, true_labels_batch = next(test_generator)\n",
    "img = img_batch[0]\n",
    "true_label_index = np.argmax(true_labels_batch[0])\n",
    "\n",
    "# Display the image\n",
    "plt.imshow(img)\n",
    "plt.axis('off')\n",
    "plt.show()\n",
    "\n",
    "# Make prediction\n",
    "prediction_scores = model.predict(np.expand_dims(img, axis=0))\n",
    "predicted_label_index = np.argmax(prediction_scores)\n",
    "\n",
    "# Get the true and predicted class labels\n",
    "true_label = test_generator.classes[true_label_index]\n",
    "predicted_label = test_generator.classes[predicted_label_index]\n",
    "\n",
    "print(\"True label: \" + test_generator.class_names[true_label])\n",
    "print(\"Predicted label: \" + test_generator.class_names[predicted_label])\n"
   ]
  },
  {
   "cell_type": "markdown",
   "metadata": {},
   "source": [
    "## 5. Save Model"
   ]
  },
  {
   "cell_type": "markdown",
   "metadata": {},
   "source": [
    "Save model as HDF5 (.h5)"
   ]
  },
  {
   "cell_type": "code",
   "execution_count": null,
   "metadata": {},
   "outputs": [],
   "source": [
    "model.save(\"skin_disease_classifier.h5\")"
   ]
  },
  {
   "cell_type": "markdown",
   "metadata": {},
   "source": [
    "Convert model to JSON and save"
   ]
  },
  {
   "cell_type": "code",
   "execution_count": null,
   "metadata": {},
   "outputs": [],
   "source": [
    "model_json = model.to_json()\n",
    "with open(\"skin_disease_classifier.json\", \"w\") as json_file:\n",
    "    json_file.write(model_json)"
   ]
  },
  {
   "cell_type": "markdown",
   "metadata": {},
   "source": [
    "Save model as TFlite"
   ]
  },
  {
   "cell_type": "code",
   "execution_count": null,
   "metadata": {},
   "outputs": [],
   "source": [
    "converter = tf.lite.TFLiteConverter.from_keras_model(model)\n",
    "converter.optimizations = [tf.lite.Optimize.DEFAULT]\n",
    "tflite_model = converter.convert()\n",
    "\n",
    "with open(\"skin_disease_classifier.tflite\", \"wb\") as tflite_file:\n",
    "    tflite_file.write(tflite_model)"
   ]
  }
 ],
 "metadata": {
  "kernelspec": {
   "display_name": "Python 3",
   "language": "python",
   "name": "python3"
  },
  "language_info": {
   "codemirror_mode": {
    "name": "ipython",
    "version": 3
   },
   "file_extension": ".py",
   "mimetype": "text/x-python",
   "name": "python",
   "nbconvert_exporter": "python",
   "pygments_lexer": "ipython3",
   "version": "3.11.5"
  }
 },
 "nbformat": 4,
 "nbformat_minor": 2
}
